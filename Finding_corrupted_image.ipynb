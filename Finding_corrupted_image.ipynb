{
 "cells": [
  {
   "cell_type": "code",
   "execution_count": 1,
   "metadata": {},
   "outputs": [],
   "source": [
    "import PIL\n",
    "from PIL import Image\n",
    "import os"
   ]
  },
  {
   "cell_type": "code",
   "execution_count": 3,
   "metadata": {},
   "outputs": [
    {
     "name": "stdout",
     "output_type": "stream",
     "text": [
      "bad_file :  PetImages/Cat/666.jpg\n"
     ]
    }
   ],
   "source": [
    "for folder_name in os.listdir('PetImages'):\n",
    "    for folder_path in os.listdir('PetImages/'+folder_name):\n",
    "        if folder_path.endswith('.jpg'):\n",
    "            try:\n",
    "                img = Image.open('PetImages/'+folder_name+'/'+folder_path)\n",
    "                img.verify()\n",
    "            except (IOError, SyntaxError) as e:\n",
    "                print('bad_file : ', 'PetImages/'+folder_name+'/'+folder_path)"
   ]
  },
  {
   "cell_type": "code",
   "execution_count": null,
   "metadata": {},
   "outputs": [],
   "source": []
  }
 ],
 "metadata": {
  "kernelspec": {
   "display_name": "Python 3",
   "language": "python",
   "name": "python3"
  },
  "language_info": {
   "codemirror_mode": {
    "name": "ipython",
    "version": 3
   },
   "file_extension": ".py",
   "mimetype": "text/x-python",
   "name": "python",
   "nbconvert_exporter": "python",
   "pygments_lexer": "ipython3",
   "version": "3.10.4"
  },
  "orig_nbformat": 4,
  "vscode": {
   "interpreter": {
    "hash": "f2ccb58c476f33ba3e3aee7ac07234ef6b8217ef24ad64d2a7d4fed1a57c1cd2"
   }
  }
 },
 "nbformat": 4,
 "nbformat_minor": 2
}
