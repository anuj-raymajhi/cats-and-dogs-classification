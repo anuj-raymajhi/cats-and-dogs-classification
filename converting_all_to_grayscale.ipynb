{
 "cells": [
  {
   "cell_type": "code",
   "execution_count": 36,
   "metadata": {},
   "outputs": [],
   "source": [
    "import os\n",
    "import cv2"
   ]
  },
  {
   "cell_type": "code",
   "execution_count": 38,
   "metadata": {},
   "outputs": [],
   "source": [
    "img_num = 0\n",
    "while os.path.isfile(f'PetImages/Cat/{img_num}.jpg'):\n",
    "    try:\n",
    "        img = cv2.imread(f'PetImages/Cat/{img_num}.jpg', cv2.IMREAD_GRAYSCALE)\n",
    "        cv2.imwrite(f'PetImages/Cat/{img_num}.jpg', img)\n",
    "    except:\n",
    "        print(f'error while opening the file {img_num}.jpg')\n",
    "    finally:\n",
    "        img_num += 1"
   ]
  },
  {
   "cell_type": "code",
   "execution_count": 32,
   "metadata": {},
   "outputs": [],
   "source": [
    "img_num = 0\n",
    "while os.path.isfile(f'PetImages/Dog/{img_num}.jpg'):\n",
    "    try:\n",
    "        img = cv2.imread(f'PetImages/Dog/{img_num}.jpg', cv2.IMREAD_GRAYSCALE)\n",
    "        cv2.imwrite(f'PetImages/Dog/{img_num}.jpg', img)\n",
    "    except:\n",
    "        print(f'error while opening the file {img_num}.jpg')\n",
    "    finally:\n",
    "        img_num += 1"
   ]
  },
  {
   "cell_type": "code",
   "execution_count": null,
   "metadata": {},
   "outputs": [],
   "source": []
  }
 ],
 "metadata": {
  "kernelspec": {
   "display_name": "Python 3",
   "language": "python",
   "name": "python3"
  },
  "language_info": {
   "codemirror_mode": {
    "name": "ipython",
    "version": 3
   },
   "file_extension": ".py",
   "mimetype": "text/x-python",
   "name": "python",
   "nbconvert_exporter": "python",
   "pygments_lexer": "ipython3",
   "version": "3.10.4"
  },
  "orig_nbformat": 4,
  "vscode": {
   "interpreter": {
    "hash": "f2ccb58c476f33ba3e3aee7ac07234ef6b8217ef24ad64d2a7d4fed1a57c1cd2"
   }
  }
 },
 "nbformat": 4,
 "nbformat_minor": 2
}
