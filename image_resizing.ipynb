{
 "cells": [
  {
   "cell_type": "code",
   "execution_count": 1,
   "metadata": {},
   "outputs": [],
   "source": [
    "import os\n",
    "import cv2"
   ]
  },
  {
   "cell_type": "code",
   "execution_count": 4,
   "metadata": {},
   "outputs": [],
   "source": [
    "re_width = 155\n",
    "re_height = 155\n",
    "re_points = (re_width, re_height)"
   ]
  },
  {
   "cell_type": "code",
   "execution_count": 3,
   "metadata": {},
   "outputs": [
    {
     "name": "stdout",
     "output_type": "stream",
     "text": [
      "error!\n",
      "error!\n"
     ]
    }
   ],
   "source": [
    "image_num = 0\n",
    "while os.path.isfile(f\"PetImages/Dog/{image_num}.jpg\"):\n",
    "    try:\n",
    "        # img = cv2.imread(f'PetImages/Cat/{image_num}.jpg')\n",
    "        img2 = cv2.imread(f'PetImages/Dog/{image_num}.jpg')\n",
    "        # re_img = cv2.resize(img, (155,155), interpolation= cv2.INTER_LINEAR)\n",
    "        re_img2 = cv2.resize(img2, (155,155), interpolation= cv2.INTER_LINEAR)\n",
    "        # cv2.imwrite(f\"PetImages/Cat/{image_num}.jpg\",re_img)\n",
    "        cv2.imwrite(f\"PetImages/Dog/{image_num}.jpg\",re_img2)\n",
    "    except:\n",
    "        print('error!')\n",
    "    finally:\n",
    "        image_num += 1"
   ]
  },
  {
   "cell_type": "code",
   "execution_count": 4,
   "metadata": {},
   "outputs": [],
   "source": [
    "# this won't resize images if it already has the required size"
   ]
  },
  {
   "cell_type": "code",
   "execution_count": 3,
   "metadata": {},
   "outputs": [],
   "source": [
    "#resizing for real data"
   ]
  },
  {
   "cell_type": "code",
   "execution_count": 2,
   "metadata": {},
   "outputs": [
    {
     "data": {
      "text/plain": [
       "True"
      ]
     },
     "execution_count": 2,
     "metadata": {},
     "output_type": "execute_result"
    }
   ],
   "source": [
    "image = cv2.imread('DataForTesting/1.jpeg')\n",
    "re_img = cv2.resize(image, (155,155), interpolation= cv2.INTER_LINEAR)\n",
    "cv2.imwrite(\"DataForTesting/1.jpeg\", re_img)"
   ]
  },
  {
   "cell_type": "code",
   "execution_count": 4,
   "metadata": {},
   "outputs": [],
   "source": [
    "img_num = 2\n",
    "while os.path.isfile(f'DataForTesting/{img_num}.jpg'):\n",
    "    try:\n",
    "        img = cv2.imread(f'DataForTesting/{img_num}.jpg')\n",
    "        re = cv2.resize(img, (155,155), interpolation= cv2.INTER_LINEAR)\n",
    "        cv2.imwrite(f\"DataForTesting/{img_num}.jpg\", re)\n",
    "    except:\n",
    "        print('error while opening file')\n",
    "    finally:\n",
    "        img_num += 1\n",
    "        "
   ]
  },
  {
   "cell_type": "code",
   "execution_count": null,
   "metadata": {},
   "outputs": [],
   "source": []
  }
 ],
 "metadata": {
  "kernelspec": {
   "display_name": "Python 3",
   "language": "python",
   "name": "python3"
  },
  "language_info": {
   "codemirror_mode": {
    "name": "ipython",
    "version": 3
   },
   "file_extension": ".py",
   "mimetype": "text/x-python",
   "name": "python",
   "nbconvert_exporter": "python",
   "pygments_lexer": "ipython3",
   "version": "3.10.4"
  },
  "orig_nbformat": 4,
  "vscode": {
   "interpreter": {
    "hash": "f2ccb58c476f33ba3e3aee7ac07234ef6b8217ef24ad64d2a7d4fed1a57c1cd2"
   }
  }
 },
 "nbformat": 4,
 "nbformat_minor": 2
}
